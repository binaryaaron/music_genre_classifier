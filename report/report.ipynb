{
 "cells": [
  {
   "cell_type": "markdown",
   "metadata": {},
   "source": [
    "# Logistic Regression\n",
    "\n",
    "### Aaron Gonzales\n",
    "### CS529, Machine Learning\n",
    "### Project 3\n",
    "### Instructor: Trilce Estrada"
   ]
  },
  {
   "cell_type": "markdown",
   "metadata": {},
   "source": [
    "### rubric\n",
    "- Implement gradient descent (Code – 15 pts) x\n",
    "- Implement multinomial logistic regression (Code – 15 pts) x\n",
    "- Provide comments and README (Code & Documentation – 5 pts)\n",
    "\n",
    "- Use FFT components for classification (Code - 5 pts) x \n",
    "\n",
    "- Use 10-fold cross validation for training and testing (Code - 5 pts) \n",
    "- Report accuracy with the confusion matrix (Report – 5 pts) x \n",
    "\n",
    "- Describe results and provide an explanation for bias (Report - 5 pts)\n",
    "\n",
    "- Define a rank for FFT components and use 200 for classification (Code - 5 pts) \n",
    "- Use 10-fold cross validation for training and testing (Code - 5 pts)\n",
    "\n",
    "- Report accuracy with the confusion matrix (Report - 5 pts)\n",
    "\n",
    "- Describe results and provide an explanation for bias (Report - 5 pts)\n",
    "\n",
    "- Use MFCC components for classification (Code - 5 pts)\n",
    "\n",
    "- Use 10-fold cross validation for training and testing (Code - 5 pts) \n",
    "- Report accuracy with the confusion matrix (Report - 5 pts)\n",
    "\n",
    "- Describe results and provide an explanation for bias (Report - 5 pts)\n",
    "\n",
    "- Describe how could you improve further this classification task (Report - 5 pts) \n",
    "\n",
    "- Total 100 pts (This homework accounts for 10 points of your final grade)\n"
   ]
  },
  {
   "cell_type": "markdown",
   "metadata": {},
   "source": [
    "## Overview of the project\n",
    "\n",
    "We built a thing that does stuff.\n",
    "\n",
    "blah blah blah. \n",
    "\n",
    "This is an ipython notebook; code can be executed direclty from here. \n",
    "\n",
    "explain how to run the program.\n"
   ]
  },
  {
   "cell_type": "code",
   "execution_count": null,
   "metadata": {
    "collapsed": true
   },
   "outputs": [],
   "source": [
    "%load_ext autoreload\n",
    "%autoreload 1\n",
    "import numpy as np\n",
    "import itertools\n",
    "import sklearn.metrics  as metrics"
   ]
  },
  {
   "cell_type": "code",
   "execution_count": null,
   "metadata": {
    "collapsed": true
   },
   "outputs": [],
   "source": []
  },
  {
   "cell_type": "code",
   "execution_count": null,
   "metadata": {
    "collapsed": true
   },
   "outputs": [],
   "source": [
    "classes, class_labels, ffts = utils.read_features(feature='fft')"
   ]
  },
  {
   "cell_type": "code",
   "execution_count": null,
   "metadata": {
    "collapsed": true
   },
   "outputs": [],
   "source": []
  },
  {
   "cell_type": "code",
   "execution_count": null,
   "metadata": {
    "collapsed": true
   },
   "outputs": [],
   "source": []
  },
  {
   "cell_type": "code",
   "execution_count": null,
   "metadata": {
    "collapsed": true
   },
   "outputs": [],
   "source": []
  }
 ],
 "metadata": {
  "kernelspec": {
   "display_name": "Python 3",
   "language": "python",
   "name": "python3"
  },
  "language_info": {
   "codemirror_mode": {
    "name": "ipython",
    "version": 3
   },
   "file_extension": ".py",
   "mimetype": "text/x-python",
   "name": "python",
   "nbconvert_exporter": "python",
   "pygments_lexer": "ipython3",
   "version": "3.4.2"
  }
 },
 "nbformat": 4,
 "nbformat_minor": 0
}
