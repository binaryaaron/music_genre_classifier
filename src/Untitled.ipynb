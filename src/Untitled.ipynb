{
 "cells": [
  {
   "cell_type": "code",
   "execution_count": 1,
   "metadata": {
    "collapsed": false
   },
   "outputs": [],
   "source": [
    "import utils\n",
    "import numpy as np"
   ]
  },
  {
   "cell_type": "code",
   "execution_count": null,
   "metadata": {
    "collapsed": false
   },
   "outputs": [],
   "source": []
  },
  {
   "cell_type": "code",
   "execution_count": 2,
   "metadata": {
    "collapsed": false
   },
   "outputs": [],
   "source": [
    "classes, class_labels, ffts = utils.read_features()"
   ]
  },
  {
   "cell_type": "code",
   "execution_count": 3,
   "metadata": {
    "collapsed": false,
    "scrolled": true
   },
   "outputs": [
    {
     "data": {
      "text/plain": [
       "{'blues': 3,\n",
       " 'classical': 4,\n",
       " 'country': 1,\n",
       " 'disco': 9,\n",
       " 'hiphop': 0,\n",
       " 'jazz': 8,\n",
       " 'metal': 7,\n",
       " 'pop': 5,\n",
       " 'reggae': 2,\n",
       " 'rock': 6}"
      ]
     },
     "execution_count": 3,
     "metadata": {},
     "output_type": "execute_result"
    }
   ],
   "source": [
    "classes"
   ]
  },
  {
   "cell_type": "code",
   "execution_count": 5,
   "metadata": {
    "collapsed": false
   },
   "outputs": [
    {
     "data": {
      "text/plain": [
       "1000"
      ]
     },
     "execution_count": 5,
     "metadata": {},
     "output_type": "execute_result"
    }
   ],
   "source": [
    "len(class_labels)\n"
   ]
  },
  {
   "cell_type": "code",
   "execution_count": 70,
   "metadata": {
    "collapsed": false
   },
   "outputs": [
    {
     "data": {
      "text/plain": [
       "True"
      ]
     },
     "execution_count": 70,
     "metadata": {},
     "output_type": "execute_result"
    }
   ],
   "source": []
  },
  {
   "cell_type": "code",
   "execution_count": 25,
   "metadata": {
    "collapsed": false
   },
   "outputs": [],
   "source": [
    "## estimate priors?\n",
    "\n",
    "class_priors = np.zeros(shape=len(classes))"
   ]
  },
  {
   "cell_type": "code",
   "execution_count": 26,
   "metadata": {
    "collapsed": false
   },
   "outputs": [],
   "source": [
    "for k, v in classes.items():\n",
    "    view = class_labels[class_labels == v]\n",
    "    class_priors[v] = view.size/class_labels.size"
   ]
  },
  {
   "cell_type": "code",
   "execution_count": 27,
   "metadata": {
    "collapsed": false
   },
   "outputs": [
    {
     "data": {
      "text/plain": [
       "array([ 0.1,  0.1,  0.1,  0.1,  0.1,  0.1,  0.1,  0.1,  0.1,  0.1])"
      ]
     },
     "execution_count": 27,
     "metadata": {},
     "output_type": "execute_result"
    }
   ],
   "source": [
    "class_priors"
   ]
  },
  {
   "cell_type": "code",
   "execution_count": 28,
   "metadata": {
    "collapsed": false
   },
   "outputs": [
    {
     "data": {
      "text/plain": [
       "(10, 1000)"
      ]
     },
     "execution_count": 28,
     "metadata": {},
     "output_type": "execute_result"
    }
   ],
   "source": [
    "phat = np.zeros((len(classes), ffts.shape[1]))\n",
    "phat.shape"
   ]
  },
  {
   "cell_type": "code",
   "execution_count": 33,
   "metadata": {
    "collapsed": false
   },
   "outputs": [
    {
     "data": {
      "text/plain": [
       "1736683925360687992"
      ]
     },
     "execution_count": 33,
     "metadata": {},
     "output_type": "execute_result"
    }
   ],
   "source": [
    "hash('a')\n"
   ]
  },
  {
   "cell_type": "code",
   "execution_count": 34,
   "metadata": {
    "collapsed": false
   },
   "outputs": [
    {
     "data": {
      "text/plain": [
       "-1815693260366656874"
      ]
     },
     "execution_count": 34,
     "metadata": {},
     "output_type": "execute_result"
    }
   ],
   "source": [
    "hash('b')"
   ]
  },
  {
   "cell_type": "code",
   "execution_count": 35,
   "metadata": {
    "collapsed": false
   },
   "outputs": [
    {
     "data": {
      "text/plain": [
       "1"
      ]
     },
     "execution_count": 35,
     "metadata": {},
     "output_type": "execute_result"
    }
   ],
   "source": [
    "hash(1)"
   ]
  },
  {
   "cell_type": "code",
   "execution_count": 36,
   "metadata": {
    "collapsed": false
   },
   "outputs": [
    {
     "data": {
      "text/plain": [
       "230584300921369601"
      ]
     },
     "execution_count": 36,
     "metadata": {},
     "output_type": "execute_result"
    }
   ],
   "source": [
    "hash(1.1)"
   ]
  },
  {
   "cell_type": "code",
   "execution_count": 37,
   "metadata": {
    "collapsed": true
   },
   "outputs": [],
   "source": [
    "\n",
    "\n",
    "import re\n",
    "import itertools\n",
    "\n",
    "def solve(puzzle):\n",
    "    words = re.findall('[A-Z]+', puzzle.upper())\n",
    "    unique_characters = set(''.join(words))\n",
    "    assert len(unique_characters) <= 10, 'Too many letters'\n",
    "    first_letters = {word[0] for word in words}\n",
    "    n = len(first_letters)\n",
    "    sorted_characters = ''.join(first_letters) + \\\n",
    "        ''.join(unique_characters - first_letters)\n",
    "    characters = tuple(ord(c) for c in sorted_characters)\n",
    "    digits = tuple(ord(c) for c in '0123456789')\n",
    "    zero = digits[0]\n",
    "    for guess in itertools.permutations(digits, len(characters)):\n",
    "        if zero not in guess[:n]:\n",
    "            equation = puzzle.translate(dict(zip(characters, guess)))\n",
    "            if eval(equation):\n",
    "                return equation"
   ]
  },
  {
   "cell_type": "code",
   "execution_count": 40,
   "metadata": {
    "collapsed": false
   },
   "outputs": [
    {
     "data": {
      "text/plain": [
       "'9567 + 1085 == 10652'"
      ]
     },
     "execution_count": 40,
     "metadata": {},
     "output_type": "execute_result"
    }
   ],
   "source": [
    "sol = solve('SEND + MORE == MONEY')\n",
    "sol"
   ]
  },
  {
   "cell_type": "code",
   "execution_count": 52,
   "metadata": {
    "collapsed": false
   },
   "outputs": [
    {
     "data": {
      "text/plain": [
       "{'a', 'c', 'l', 'r', 'y'}"
      ]
     },
     "execution_count": 52,
     "metadata": {},
     "output_type": "execute_result"
    }
   ],
   "source": [
    "name = 'carly'\n",
    "chars = set(name)\n",
    "chars"
   ]
  },
  {
   "cell_type": "code",
   "execution_count": 55,
   "metadata": {
    "collapsed": false
   },
   "outputs": [],
   "source": [
    "ords = tuple(ord(c) for c in set(name))"
   ]
  },
  {
   "cell_type": "code",
   "execution_count": 63,
   "metadata": {
    "collapsed": false
   },
   "outputs": [
    {
     "data": {
      "text/plain": [
       "[(97, 121, 108),\n",
       " (97, 121, 114),\n",
       " (97, 121, 99),\n",
       " (97, 108, 114),\n",
       " (97, 108, 99),\n",
       " (97, 114, 99),\n",
       " (121, 108, 114),\n",
       " (121, 108, 99),\n",
       " (121, 114, 99),\n",
       " (108, 114, 99)]"
      ]
     },
     "execution_count": 63,
     "metadata": {},
     "output_type": "execute_result"
    }
   ],
   "source": [
    "list(itertools.combinations(ords, 3))"
   ]
  },
  {
   "cell_type": "code",
   "execution_count": 58,
   "metadata": {
    "collapsed": false
   },
   "outputs": [
    {
     "data": {
      "text/plain": [
       "3713081631934410656"
      ]
     },
     "execution_count": 58,
     "metadata": {},
     "output_type": "execute_result"
    }
   ],
   "source": [
    "hash((1,2))"
   ]
  },
  {
   "cell_type": "code",
   "execution_count": 65,
   "metadata": {
    "collapsed": false
   },
   "outputs": [
    {
     "data": {
      "text/plain": [
       "array([  5.00000000e-01,   2.68941421e-01,   2.68941421e-01,\n",
       "         1.19202922e-01,   4.74258732e-02,   1.79862100e-02,\n",
       "         4.53978687e-05,   5.00000000e-01])"
      ]
     },
     "execution_count": 65,
     "metadata": {},
     "output_type": "execute_result"
    }
   ],
   "source": [
    "a = np.array([0,1,1,2,3,4,10,0])\n",
    "(1 / ( 1 + np.exp(a)))"
   ]
  },
  {
   "cell_type": "code",
   "execution_count": 87,
   "metadata": {
    "collapsed": false
   },
   "outputs": [
    {
     "data": {
      "text/plain": [
       "array([[ 0.5,  0.5,  0.5, ...,  0.5,  0.5,  0.5],\n",
       "       [ 0.5,  0.5,  0.5, ...,  0.5,  0.5,  0.5],\n",
       "       [ 0.5,  0.5,  0.5, ...,  0.5,  0.5,  0.5],\n",
       "       ..., \n",
       "       [ 0.5,  0.5,  0.5, ...,  0.5,  0.5,  0.5],\n",
       "       [ 0.5,  0.5,  0.5, ...,  0.5,  0.5,  0.5],\n",
       "       [ 0.5,  0.5,  0.5, ...,  0.5,  0.5,  0.5]])"
      ]
     },
     "execution_count": 87,
     "metadata": {},
     "output_type": "execute_result"
    }
   ],
   "source": [
    "\n",
    "W = np.zeros(shape=(len(classes), ffts.shape[1])) + 0.5\n",
    "W.shape\n",
    "W"
   ]
  },
  {
   "cell_type": "code",
   "execution_count": 94,
   "metadata": {
    "collapsed": false
   },
   "outputs": [
    {
     "data": {
      "text/plain": [
       "array([[-10220074.50000000      +0.j        ,\n",
       "           413067.69159501-1251276.83954865j,\n",
       "          9297048.50451787-6392168.18942727j, ...,\n",
       "         -8651752.59336352+9399981.48754334j,\n",
       "          9297048.50451789+6392168.18942722j,\n",
       "           413067.69159500+1251276.83954865j],\n",
       "       [-10220074.50000000      +0.j        ,\n",
       "           413067.69159501-1251276.83954865j,\n",
       "          9297048.50451787-6392168.18942727j, ...,\n",
       "         -8651752.59336352+9399981.48754334j,\n",
       "          9297048.50451789+6392168.18942722j,\n",
       "           413067.69159500+1251276.83954865j],\n",
       "       [-10220074.50000000      +0.j        ,\n",
       "           413067.69159501-1251276.83954865j,\n",
       "          9297048.50451787-6392168.18942727j, ...,\n",
       "         -8651752.59336352+9399981.48754334j,\n",
       "          9297048.50451789+6392168.18942722j,\n",
       "           413067.69159500+1251276.83954865j],\n",
       "       ..., \n",
       "       [-10220074.50000000      +0.j        ,\n",
       "           413067.69159501-1251276.83954865j,\n",
       "          9297048.50451787-6392168.18942727j, ...,\n",
       "         -8651752.59336352+9399981.48754334j,\n",
       "          9297048.50451789+6392168.18942722j,\n",
       "           413067.69159500+1251276.83954865j],\n",
       "       [-10220074.50000000      +0.j        ,\n",
       "           413067.69159501-1251276.83954865j,\n",
       "          9297048.50451787-6392168.18942727j, ...,\n",
       "         -8651752.59336352+9399981.48754334j,\n",
       "          9297048.50451789+6392168.18942722j,\n",
       "           413067.69159500+1251276.83954865j],\n",
       "       [-10220074.50000000      +0.j        ,\n",
       "           413067.69159501-1251276.83954865j,\n",
       "          9297048.50451787-6392168.18942727j, ...,\n",
       "         -8651752.59336352+9399981.48754334j,\n",
       "          9297048.50451789+6392168.18942722j,\n",
       "           413067.69159500+1251276.83954865j]])"
      ]
     },
     "execution_count": 94,
     "metadata": {},
     "output_type": "execute_result"
    }
   ],
   "source": [
    "np.dot(W, ffts)"
   ]
  },
  {
   "cell_type": "code",
   "execution_count": null,
   "metadata": {
    "collapsed": true
   },
   "outputs": [],
   "source": []
  }
 ],
 "metadata": {
  "kernelspec": {
   "display_name": "Python 3",
   "language": "python",
   "name": "python3"
  },
  "language_info": {
   "codemirror_mode": {
    "name": "ipython",
    "version": 3
   },
   "file_extension": ".py",
   "mimetype": "text/x-python",
   "name": "python",
   "nbconvert_exporter": "python",
   "pygments_lexer": "ipython3",
   "version": "3.4.0"
  }
 },
 "nbformat": 4,
 "nbformat_minor": 0
}
