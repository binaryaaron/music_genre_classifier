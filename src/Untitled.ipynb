{
 "cells": [
  {
   "cell_type": "code",
   "execution_count": 14,
   "metadata": {
    "collapsed": false
   },
   "outputs": [],
   "source": [
    "import numpy as np\n",
    "import itertools"
   ]
  },
  {
   "cell_type": "code",
   "execution_count": 94,
   "metadata": {
    "collapsed": false
   },
   "outputs": [
    {
     "name": "stdout",
     "output_type": "stream",
     "text": [
      "The autoreload extension is already loaded. To reload it, use:\n",
      "  %reload_ext autoreload\n"
     ]
    }
   ],
   "source": [
    "%load_ext autoreload\n",
    "%autoreload 1"
   ]
  },
  {
   "cell_type": "code",
   "execution_count": 95,
   "metadata": {
    "collapsed": true
   },
   "outputs": [],
   "source": [
    "%aimport utils\n",
    "%aimport classify"
   ]
  },
  {
   "cell_type": "code",
   "execution_count": 325,
   "metadata": {
    "collapsed": false
   },
   "outputs": [],
   "source": [
    "classes, class_labels, ffts = utils.read_features()"
   ]
  },
  {
   "cell_type": "code",
   "execution_count": 326,
   "metadata": {
    "collapsed": false
   },
   "outputs": [
    {
     "data": {
      "text/plain": [
       "(1000, 1001)"
      ]
     },
     "execution_count": 326,
     "metadata": {},
     "output_type": "execute_result"
    }
   ],
   "source": [
    "ffts = np.absolute(ffts)\n",
    "ffts = np.insert(ffts, 0, 1, axis=1)\n",
    "ffts.shape\n",
    "ffts = ffts /np.max(ffts)"
   ]
  },
  {
   "cell_type": "code",
   "execution_count": null,
   "metadata": {
    "collapsed": false
   },
   "outputs": [],
   "source": []
  },
  {
   "cell_type": "code",
   "execution_count": 5,
   "metadata": {
    "collapsed": false,
    "scrolled": true
   },
   "outputs": [
    {
     "data": {
      "text/plain": [
       "{'blues': 5,\n",
       " 'classical': 3,\n",
       " 'country': 6,\n",
       " 'disco': 4,\n",
       " 'hiphop': 1,\n",
       " 'jazz': 9,\n",
       " 'metal': 0,\n",
       " 'pop': 8,\n",
       " 'reggae': 2,\n",
       " 'rock': 7}"
      ]
     },
     "execution_count": 5,
     "metadata": {},
     "output_type": "execute_result"
    }
   ],
   "source": [
    "classes"
   ]
  },
  {
   "cell_type": "code",
   "execution_count": 6,
   "metadata": {
    "collapsed": false
   },
   "outputs": [
    {
     "data": {
      "text/plain": [
       "1000"
      ]
     },
     "execution_count": 6,
     "metadata": {},
     "output_type": "execute_result"
    }
   ],
   "source": [
    "len(class_labels)\n"
   ]
  },
  {
   "cell_type": "code",
   "execution_count": 70,
   "metadata": {
    "collapsed": false
   },
   "outputs": [
    {
     "data": {
      "text/plain": [
       "True"
      ]
     },
     "execution_count": 70,
     "metadata": {},
     "output_type": "execute_result"
    }
   ],
   "source": []
  },
  {
   "cell_type": "code",
   "execution_count": 7,
   "metadata": {
    "collapsed": false
   },
   "outputs": [],
   "source": [
    "## estimate priors?\n",
    "\n",
    "class_priors = np.zeros(shape=len(classes))"
   ]
  },
  {
   "cell_type": "code",
   "execution_count": 8,
   "metadata": {
    "collapsed": false
   },
   "outputs": [],
   "source": [
    "for k, v in classes.items():\n",
    "    view = class_labels[class_labels == v]\n",
    "    class_priors[v] = view.size/class_labels.size"
   ]
  },
  {
   "cell_type": "code",
   "execution_count": 9,
   "metadata": {
    "collapsed": false
   },
   "outputs": [
    {
     "data": {
      "text/plain": [
       "array([ 0.1,  0.1,  0.1,  0.1,  0.1,  0.1,  0.1,  0.1,  0.1,  0.1])"
      ]
     },
     "execution_count": 9,
     "metadata": {},
     "output_type": "execute_result"
    }
   ],
   "source": [
    "class_priors"
   ]
  },
  {
   "cell_type": "code",
   "execution_count": 10,
   "metadata": {
    "collapsed": false
   },
   "outputs": [
    {
     "data": {
      "text/plain": [
       "(10, 1000)"
      ]
     },
     "execution_count": 10,
     "metadata": {},
     "output_type": "execute_result"
    }
   ],
   "source": [
    "phat = np.zeros((len(classes), ffts.shape[1]))\n",
    "phat.shape"
   ]
  },
  {
   "cell_type": "code",
   "execution_count": 33,
   "metadata": {
    "collapsed": false
   },
   "outputs": [
    {
     "data": {
      "text/plain": [
       "1736683925360687992"
      ]
     },
     "execution_count": 33,
     "metadata": {},
     "output_type": "execute_result"
    }
   ],
   "source": [
    "hash('a')\n"
   ]
  },
  {
   "cell_type": "code",
   "execution_count": 34,
   "metadata": {
    "collapsed": false
   },
   "outputs": [
    {
     "data": {
      "text/plain": [
       "-1815693260366656874"
      ]
     },
     "execution_count": 34,
     "metadata": {},
     "output_type": "execute_result"
    }
   ],
   "source": [
    "hash('b')"
   ]
  },
  {
   "cell_type": "code",
   "execution_count": 35,
   "metadata": {
    "collapsed": false
   },
   "outputs": [
    {
     "data": {
      "text/plain": [
       "1"
      ]
     },
     "execution_count": 35,
     "metadata": {},
     "output_type": "execute_result"
    }
   ],
   "source": [
    "hash(1)"
   ]
  },
  {
   "cell_type": "code",
   "execution_count": 36,
   "metadata": {
    "collapsed": false
   },
   "outputs": [
    {
     "data": {
      "text/plain": [
       "230584300921369601"
      ]
     },
     "execution_count": 36,
     "metadata": {},
     "output_type": "execute_result"
    }
   ],
   "source": [
    "hash(1.1)"
   ]
  },
  {
   "cell_type": "code",
   "execution_count": 37,
   "metadata": {
    "collapsed": true
   },
   "outputs": [],
   "source": []
  },
  {
   "cell_type": "code",
   "execution_count": 40,
   "metadata": {
    "collapsed": false
   },
   "outputs": [
    {
     "data": {
      "text/plain": [
       "'9567 + 1085 == 10652'"
      ]
     },
     "execution_count": 40,
     "metadata": {},
     "output_type": "execute_result"
    }
   ],
   "source": []
  },
  {
   "cell_type": "code",
   "execution_count": 11,
   "metadata": {
    "collapsed": false
   },
   "outputs": [
    {
     "data": {
      "text/plain": [
       "{'a', 'c', 'l', 'r', 'y'}"
      ]
     },
     "execution_count": 11,
     "metadata": {},
     "output_type": "execute_result"
    }
   ],
   "source": [
    "name = 'carly'\n",
    "chars = set(name)\n",
    "chars"
   ]
  },
  {
   "cell_type": "code",
   "execution_count": 12,
   "metadata": {
    "collapsed": false
   },
   "outputs": [],
   "source": [
    "ords = tuple(ord(c) for c in set(name))"
   ]
  },
  {
   "cell_type": "code",
   "execution_count": 15,
   "metadata": {
    "collapsed": false
   },
   "outputs": [
    {
     "data": {
      "text/plain": [
       "[(114, 108, 99),\n",
       " (114, 108, 97),\n",
       " (114, 108, 121),\n",
       " (114, 99, 97),\n",
       " (114, 99, 121),\n",
       " (114, 97, 121),\n",
       " (108, 99, 97),\n",
       " (108, 99, 121),\n",
       " (108, 97, 121),\n",
       " (99, 97, 121)]"
      ]
     },
     "execution_count": 15,
     "metadata": {},
     "output_type": "execute_result"
    }
   ],
   "source": [
    "list(itertools.combinations(ords, 3))"
   ]
  },
  {
   "cell_type": "code",
   "execution_count": 100,
   "metadata": {
    "collapsed": false
   },
   "outputs": [],
   "source": [
    "## I need a big delta matrix for $\\delta(y^l = y_j)$\n",
    "\n",
    "Delta = classify.make_Delta(class_labels, len(classes))\n",
    "\n"
   ]
  },
  {
   "cell_type": "markdown",
   "metadata": {
    "collapsed": false
   },
   "source": [
    "P(Y|W,X)∼exp(WXT), a t×m matrix of probability values. To follow the format of equations (27) and (28) in the text, fill the last row with all 1's, and then normalize each column to sum to one by dividing the each value in the column by the sum of the column."
   ]
  },
  {
   "cell_type": "code",
   "execution_count": 155,
   "metadata": {
    "collapsed": false
   },
   "outputs": [
    {
     "data": {
      "text/plain": [
       "(10, 1000)"
      ]
     },
     "execution_count": 155,
     "metadata": {},
     "output_type": "execute_result"
    }
   ],
   "source": []
  },
  {
   "cell_type": "code",
   "execution_count": 263,
   "metadata": {
    "collapsed": false
   },
   "outputs": [],
   "source": [
    "def probs(Weights, X):\n",
    "    P = np.log(np.exp(np.dot(Weights, X.T)))\n",
    "    P[P.shape[0]-1] = 1\n",
    "    colsum = np.sum(P, axis=0)\n",
    "    P = P/colsum\n",
    "    return P"
   ]
  },
  {
   "cell_type": "code",
   "execution_count": 330,
   "metadata": {
    "collapsed": false
   },
   "outputs": [
    {
     "data": {
      "text/plain": [
       "(10, 1000)"
      ]
     },
     "execution_count": 330,
     "metadata": {},
     "output_type": "execute_result"
    }
   ],
   "source": [
    "W.shape"
   ]
  },
  {
   "cell_type": "code",
   "execution_count": 116,
   "metadata": {
    "collapsed": false
   },
   "outputs": [
    {
     "data": {
      "text/plain": [
       "-0j"
      ]
     },
     "execution_count": 116,
     "metadata": {},
     "output_type": "execute_result"
    }
   ],
   "source": []
  },
  {
   "cell_type": "markdown",
   "metadata": {
    "collapsed": false
   },
   "source": [
    "Wt+1=Wt+η((Δ−P(Y|W,X))X−λWt)"
   ]
  },
  {
   "cell_type": "code",
   "execution_count": 125,
   "metadata": {
    "collapsed": false
   },
   "outputs": [
    {
     "ename": "TypeError",
     "evalue": "'float' object is not callable",
     "output_type": "error",
     "traceback": [
      "\u001b[1;31m---------------------------------------------------------------------------\u001b[0m",
      "\u001b[1;31mTypeError\u001b[0m                                 Traceback (most recent call last)",
      "\u001b[1;32m<ipython-input-125-fd5942f38876>\u001b[0m in \u001b[0;36m<module>\u001b[1;34m()\u001b[0m\n\u001b[1;32m----> 1\u001b[1;33m \u001b[0mW\u001b[0m \u001b[1;33m=\u001b[0m \u001b[0mW\u001b[0m \u001b[1;33m+\u001b[0m \u001b[1;36m0.001\u001b[0m\u001b[1;33m(\u001b[0m\u001b[1;33m(\u001b[0m\u001b[0mDelta\u001b[0m \u001b[1;33m-\u001b[0m \u001b[0mnp\u001b[0m\u001b[1;33m.\u001b[0m\u001b[0mdot\u001b[0m\u001b[1;33m(\u001b[0m\u001b[0mW\u001b[0m\u001b[1;33m,\u001b[0m \u001b[0mffts\u001b[0m\u001b[1;33m.\u001b[0m\u001b[0mT\u001b[0m\u001b[1;33m)\u001b[0m\u001b[1;33m)\u001b[0m\u001b[1;33m.\u001b[0m\u001b[0mdot\u001b[0m\u001b[1;33m(\u001b[0m\u001b[0mffts\u001b[0m\u001b[1;33m)\u001b[0m \u001b[1;33m-\u001b[0m \u001b[1;33m(\u001b[0m\u001b[1;36m0.5\u001b[0m \u001b[1;33m*\u001b[0m \u001b[0mW\u001b[0m\u001b[1;33m)\u001b[0m\u001b[1;33m)\u001b[0m\u001b[1;33m\u001b[0m\u001b[0m\n\u001b[0m",
      "\u001b[1;31mTypeError\u001b[0m: 'float' object is not callable"
     ]
    }
   ],
   "source": []
  },
  {
   "cell_type": "code",
   "execution_count": 421,
   "metadata": {
    "collapsed": false
   },
   "outputs": [
    {
     "data": {
      "text/plain": [
       "(10, 1001)"
      ]
     },
     "execution_count": 421,
     "metadata": {},
     "output_type": "execute_result"
    }
   ],
   "source": [
    "W = np.zeros(shape=(len(classes), ffts.shape[1]), dtype='float64')\n",
    "W.shape\n",
    "\n"
   ]
  },
  {
   "cell_type": "code",
   "execution_count": 422,
   "metadata": {
    "collapsed": false
   },
   "outputs": [
    {
     "name": "stdout",
     "output_type": "stream",
     "text": [
      "Error: 5.167005 \n",
      " Learn rate: 0.000001\n"
     ]
    }
   ],
   "source": [
    "W = classify.grad_decent(ffts, W, Delta, _lambda=5, eta = 0.000001, rounds = 10000, debug=False)"
   ]
  },
  {
   "cell_type": "code",
   "execution_count": null,
   "metadata": {
    "collapsed": false
   },
   "outputs": [],
   "source": []
  },
  {
   "cell_type": "code",
   "execution_count": null,
   "metadata": {
    "collapsed": false
   },
   "outputs": [],
   "source": []
  },
  {
   "cell_type": "code",
   "execution_count": null,
   "metadata": {
    "collapsed": true
   },
   "outputs": [],
   "source": []
  },
  {
   "cell_type": "code",
   "execution_count": null,
   "metadata": {
    "collapsed": false
   },
   "outputs": [],
   "source": []
  },
  {
   "cell_type": "code",
   "execution_count": null,
   "metadata": {
    "collapsed": true
   },
   "outputs": [],
   "source": []
  },
  {
   "cell_type": "code",
   "execution_count": 397,
   "metadata": {
    "collapsed": true
   },
   "outputs": [],
   "source": []
  },
  {
   "cell_type": "code",
   "execution_count": null,
   "metadata": {
    "collapsed": false
   },
   "outputs": [],
   "source": []
  },
  {
   "cell_type": "code",
   "execution_count": null,
   "metadata": {
    "collapsed": true
   },
   "outputs": [],
   "source": []
  },
  {
   "cell_type": "code",
   "execution_count": null,
   "metadata": {
    "collapsed": true
   },
   "outputs": [],
   "source": []
  },
  {
   "cell_type": "code",
   "execution_count": 349,
   "metadata": {
    "collapsed": false
   },
   "outputs": [],
   "source": [
    "_delta = 0\n",
    "d = 0\n",
    "f = 0\n"
   ]
  },
  {
   "cell_type": "code",
   "execution_count": 399,
   "metadata": {
    "collapsed": false
   },
   "outputs": [],
   "source": [
    "for i in range(1000):\n",
    "    _delta = Delta - classify.logistic(ffts, W)\n",
    "    d = np.dot(_delta, ffts)\n",
    "    f = d - (10 * W)\n",
    "    W = W + 0.0001*f"
   ]
  },
  {
   "cell_type": "code",
   "execution_count": 420,
   "metadata": {
    "collapsed": false
   },
   "outputs": [
    {
     "name": "stdout",
     "output_type": "stream",
     "text": [
      "Error: 5.068642 \n",
      " Learn rate: 0.000000\n"
     ]
    }
   ],
   "source": []
  },
  {
   "cell_type": "code",
   "execution_count": 413,
   "metadata": {
    "collapsed": false
   },
   "outputs": [
    {
     "data": {
      "text/plain": [
       "array([[ -7.18359674e-08,  -2.48786090e-03,  -5.09591162e-03, ...,\n",
       "          6.00080512e-02,   7.40970080e-03,  -5.09591162e-03],\n",
       "       [ -6.53930026e-08,   3.83073598e-02,   6.49824528e-02, ...,\n",
       "          2.46530591e-01,   3.17559390e-01,   6.49824528e-02],\n",
       "       [ -6.42844965e-08,   1.62803769e-02,   5.67110844e-03, ...,\n",
       "          2.58519536e-01,  -2.46483568e-02,   5.67110844e-03],\n",
       "       ..., \n",
       "       [ -6.45306845e-08,  -2.72149668e-02,  -3.84394542e-02, ...,\n",
       "         -1.62414021e-01,  -9.61795951e-02,  -3.84394542e-02],\n",
       "       [ -6.59576361e-08,   4.34014344e-02,   1.02112944e-01, ...,\n",
       "          1.49804130e-01,   2.68313453e-01,   1.02112944e-01],\n",
       "       [  5.83490754e-07,   7.19360519e-02,   5.53531423e-02, ...,\n",
       "          1.45461029e-01,   1.10198410e-01,   5.53531423e-02]])"
      ]
     },
     "execution_count": 413,
     "metadata": {},
     "output_type": "execute_result"
    }
   ],
   "source": [
    "W"
   ]
  },
  {
   "cell_type": "code",
   "execution_count": 298,
   "metadata": {
    "collapsed": false
   },
   "outputs": [],
   "source": [
    "P[P.shape[0]-1] = 1\n"
   ]
  },
  {
   "cell_type": "code",
   "execution_count": 299,
   "metadata": {
    "collapsed": false
   },
   "outputs": [],
   "source": [
    "colsum = np.sum(P, axis=0)\n"
   ]
  },
  {
   "cell_type": "code",
   "execution_count": 300,
   "metadata": {
    "collapsed": false
   },
   "outputs": [
    {
     "data": {
      "text/plain": [
       "array([[ 0.1323223 ,  0.1323223 ,  0.1323223 , ...,  0.1323223 ,\n",
       "         0.1323223 ,  0.1323223 ],\n",
       "       [ 0.1323223 ,  0.1323223 ,  0.1323223 , ...,  0.1323223 ,\n",
       "         0.1323223 ,  0.1323223 ],\n",
       "       [ 0.1323223 ,  0.1323223 ,  0.1323223 , ...,  0.1323223 ,\n",
       "         0.1323223 ,  0.1323223 ],\n",
       "       ..., \n",
       "       [ 0.1323223 ,  0.1323223 ,  0.1323223 , ...,  0.1323223 ,\n",
       "         0.1323223 ,  0.1323223 ],\n",
       "       [ 0.1323223 ,  0.1323223 ,  0.1323223 , ...,  0.1323223 ,\n",
       "         0.1323223 ,  0.1323223 ],\n",
       "       [-0.19090073, -0.19090073, -0.19090073, ..., -0.19090073,\n",
       "        -0.19090073, -0.19090073]])"
      ]
     },
     "execution_count": 300,
     "metadata": {},
     "output_type": "execute_result"
    }
   ],
   "source": [
    "P = P/colsum\n",
    "P\n"
   ]
  },
  {
   "cell_type": "code",
   "execution_count": 301,
   "metadata": {
    "collapsed": false
   },
   "outputs": [
    {
     "data": {
      "text/plain": [
       "array([[-0.1323223 , -0.1323223 , -0.1323223 , ..., -0.1323223 ,\n",
       "        -0.1323223 , -0.1323223 ],\n",
       "       [ 0.8676777 , -0.1323223 , -0.1323223 , ..., -0.1323223 ,\n",
       "        -0.1323223 , -0.1323223 ],\n",
       "       [-0.1323223 ,  0.8676777 , -0.1323223 , ...,  0.8676777 ,\n",
       "        -0.1323223 , -0.1323223 ],\n",
       "       ..., \n",
       "       [-0.1323223 , -0.1323223 , -0.1323223 , ..., -0.1323223 ,\n",
       "        -0.1323223 , -0.1323223 ],\n",
       "       [-0.1323223 , -0.1323223 , -0.1323223 , ..., -0.1323223 ,\n",
       "        -0.1323223 , -0.1323223 ],\n",
       "       [ 0.19090073,  0.19090073,  0.19090073, ...,  0.19090073,\n",
       "         0.19090073,  0.19090073]])"
      ]
     },
     "execution_count": 301,
     "metadata": {},
     "output_type": "execute_result"
    }
   ],
   "source": [
    "_delta = Delta - P\n",
    "_delta\n"
   ]
  },
  {
   "cell_type": "code",
   "execution_count": 302,
   "metadata": {
    "collapsed": false
   },
   "outputs": [
    {
     "data": {
      "text/plain": [
       "array([[ -3.72934390e+06,  -4.76042546e+06,  -8.91721495e+06, ...,\n",
       "         -4.97800795e+06,  -8.91721495e+06,  -4.76042546e+06],\n",
       "       [  2.41091910e+06,   5.86999657e+06,   3.84811439e+07, ...,\n",
       "          2.31485526e+07,   3.84811439e+07,   5.86999657e+06],\n",
       "       [ -1.01508590e+06,  -3.31481745e+06,  -1.44093802e+07, ...,\n",
       "          2.48854758e+07,  -1.44093802e+07,  -3.31481745e+06],\n",
       "       ..., \n",
       "       [ -7.72148090e+06,  -1.01150501e+07,  -2.54305297e+07, ...,\n",
       "         -4.00491089e+07,  -2.54305297e+07,  -1.01150501e+07],\n",
       "       [  3.21066910e+06,   1.16162364e+07,   3.09221033e+07, ...,\n",
       "          8.27911306e+06,   3.09221033e+07,   1.16162364e+07],\n",
       "       [  4.27302101e+07,   4.61112677e+07,   1.12100627e+08, ...,\n",
       "          1.57034808e+08,   1.12100627e+08,   4.61112677e+07]])"
      ]
     },
     "execution_count": 302,
     "metadata": {},
     "output_type": "execute_result"
    }
   ],
   "source": [
    "d = np.dot(_delta, ffts)\n",
    "d\n"
   ]
  },
  {
   "cell_type": "code",
   "execution_count": 303,
   "metadata": {
    "collapsed": false
   },
   "outputs": [
    {
     "data": {
      "text/plain": [
       "array([[ -3.72934390e+06,  -4.76042546e+06,  -8.91721495e+06, ...,\n",
       "         -4.97800795e+06,  -8.91721495e+06,  -4.76042546e+06],\n",
       "       [  2.41091910e+06,   5.86999657e+06,   3.84811439e+07, ...,\n",
       "          2.31485526e+07,   3.84811439e+07,   5.86999657e+06],\n",
       "       [ -1.01508590e+06,  -3.31481745e+06,  -1.44093802e+07, ...,\n",
       "          2.48854758e+07,  -1.44093802e+07,  -3.31481745e+06],\n",
       "       ..., \n",
       "       [ -7.72148090e+06,  -1.01150501e+07,  -2.54305297e+07, ...,\n",
       "         -4.00491089e+07,  -2.54305297e+07,  -1.01150501e+07],\n",
       "       [  3.21066910e+06,   1.16162364e+07,   3.09221033e+07, ...,\n",
       "          8.27911306e+06,   3.09221033e+07,   1.16162364e+07],\n",
       "       [  4.27302101e+07,   4.61112677e+07,   1.12100627e+08, ...,\n",
       "          1.57034808e+08,   1.12100627e+08,   4.61112677e+07]])"
      ]
     },
     "execution_count": 303,
     "metadata": {},
     "output_type": "execute_result"
    }
   ],
   "source": [
    "f = d - (1000 * W)\n",
    "f"
   ]
  },
  {
   "cell_type": "code",
   "execution_count": 304,
   "metadata": {
    "collapsed": false
   },
   "outputs": [],
   "source": [
    "W = W + (0.00001 * f)"
   ]
  },
  {
   "cell_type": "code",
   "execution_count": 305,
   "metadata": {
    "collapsed": false
   },
   "outputs": [
    {
     "data": {
      "text/plain": [
       "array([[  -37.29343901,   -47.60425455,   -89.17214948, ...,\n",
       "          -49.78007953,   -89.17214948,   -47.60425455],\n",
       "       [   24.10919099,    58.69996568,   384.81143939, ...,\n",
       "          231.48552632,   384.81143939,    58.69996568],\n",
       "       [  -10.15085901,   -33.14817455,  -144.09380204, ...,\n",
       "          248.85475764,  -144.09380204,   -33.14817455],\n",
       "       ..., \n",
       "       [  -77.21480901,  -101.15050099,  -254.30529734, ...,\n",
       "         -400.49108901,  -254.30529734,  -101.15050099],\n",
       "       [   32.10669099,   116.16236433,   309.22103315, ...,\n",
       "           82.79113063,   309.22103315,   116.16236433],\n",
       "       [  427.30210108,   461.11267665,  1121.00627366, ...,\n",
       "         1570.34807618,  1121.00627366,   461.11267665]])"
      ]
     },
     "execution_count": 305,
     "metadata": {},
     "output_type": "execute_result"
    }
   ],
   "source": [
    "W"
   ]
  },
  {
   "cell_type": "code",
   "execution_count": null,
   "metadata": {
    "collapsed": true
   },
   "outputs": [],
   "source": []
  },
  {
   "cell_type": "code",
   "execution_count": null,
   "metadata": {
    "collapsed": true
   },
   "outputs": [],
   "source": []
  },
  {
   "cell_type": "code",
   "execution_count": null,
   "metadata": {
    "collapsed": true
   },
   "outputs": [],
   "source": []
  },
  {
   "cell_type": "code",
   "execution_count": null,
   "metadata": {
    "collapsed": true
   },
   "outputs": [],
   "source": []
  },
  {
   "cell_type": "code",
   "execution_count": null,
   "metadata": {
    "collapsed": true
   },
   "outputs": [],
   "source": []
  },
  {
   "cell_type": "code",
   "execution_count": null,
   "metadata": {
    "collapsed": true
   },
   "outputs": [],
   "source": []
  }
 ],
 "metadata": {
  "kernelspec": {
   "display_name": "Python 3",
   "language": "python",
   "name": "python3"
  },
  "language_info": {
   "codemirror_mode": {
    "name": "ipython",
    "version": 3
   },
   "file_extension": ".py",
   "mimetype": "text/x-python",
   "name": "python",
   "nbconvert_exporter": "python",
   "pygments_lexer": "ipython3",
   "version": "3.4.0"
  }
 },
 "nbformat": 4,
 "nbformat_minor": 0
}
