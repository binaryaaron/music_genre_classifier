{
 "cells": [
  {
   "cell_type": "code",
   "execution_count": 1,
   "metadata": {
    "collapsed": false
   },
   "outputs": [],
   "source": [
    "import numpy as np\n",
    "import itertools\n",
    "import sklearn.metrics  as metrics\n",
    "from scipy.stats import zscore\n",
    "from sklearn.preprocessing import normalize\n",
    "%load_ext autoreload\n",
    "%autoreload 2\n",
    "%aimport utils\n",
    "from LogisticRegressionClassifier import LogisticRegressionClassifier"
   ]
  },
  {
   "cell_type": "code",
   "execution_count": 2,
   "metadata": {
    "collapsed": false
   },
   "outputs": [
    {
     "name": "stdout",
     "output_type": "stream",
     "text": [
      "Populating the interactive namespace from numpy and matplotlib\n"
     ]
    },
    {
     "name": "stderr",
     "output_type": "stream",
     "text": [
      "WARNING: pylab import has clobbered these variables: ['normalize']\n",
      "`%matplotlib` prevents importing * from pylab and numpy\n"
     ]
    }
   ],
   "source": [
    "%pylab inline"
   ]
  },
  {
   "cell_type": "code",
   "execution_count": null,
   "metadata": {
    "collapsed": false
   },
   "outputs": [],
   "source": []
  },
  {
   "cell_type": "code",
   "execution_count": 3,
   "metadata": {
    "collapsed": false
   },
   "outputs": [
    {
     "data": {
      "text/plain": [
       "{'blues': 0,\n",
       " 'classical': 8,\n",
       " 'country': 2,\n",
       " 'disco': 9,\n",
       " 'hiphop': 3,\n",
       " 'jazz': 5,\n",
       " 'metal': 6,\n",
       " 'pop': 1,\n",
       " 'reggae': 4,\n",
       " 'rock': 7}"
      ]
     },
     "execution_count": 3,
     "metadata": {},
     "output_type": "execute_result"
    }
   ],
   "source": [
    "class_dict, class_labels, ffts = utils.read_features(feature='fft')\n",
    "class_dict"
   ]
  },
  {
   "cell_type": "code",
   "execution_count": 4,
   "metadata": {
    "collapsed": false
   },
   "outputs": [],
   "source": [
    "lrc = LogisticRegressionClassifier(ffts, class_labels, class_dict)"
   ]
  },
  {
   "cell_type": "code",
   "execution_count": null,
   "metadata": {
    "collapsed": false
   },
   "outputs": [],
   "source": []
  },
  {
   "cell_type": "code",
   "execution_count": 15,
   "metadata": {
    "collapsed": false
   },
   "outputs": [
    {
     "name": "stdout",
     "output_type": "stream",
     "text": [
      "initializing weight and delta matrix for the first time\n",
      "Step 0: Error: -1.000000 updating learning rate: 0.000084\n",
      "Step 9: Error: 14.240899 updating learning rate: 0.000084\n",
      "Step 10: Error: 14.317167 updating learning rate: 0.000084\n",
      "Step 11: Error: 15.472016 updating learning rate: 0.000084\n",
      "Step 12: Error: 16.554639 updating learning rate: 0.000084\n",
      "Step 13: Error: 17.567968 updating learning rate: 0.000083\n",
      "Step 14: Error: 18.517833 updating learning rate: 0.000083\n",
      "Step 15: Error: 19.406692 updating learning rate: 0.000083\n",
      "Step 16: Error: 20.237069 updating learning rate: 0.000083\n",
      "Step 17: Error: 21.013855 updating learning rate: 0.000083\n",
      "Step 18: Error: 21.739171 updating learning rate: 0.000083\n",
      "Step 19: Error: 22.415186 updating learning rate: 0.000083\n",
      "Step 20: Error: 23.045997 updating learning rate: 0.000083\n",
      "Step 21: Error: 23.633431 updating learning rate: 0.000083\n",
      "Step 22: Error: 24.179358 updating learning rate: 0.000083\n",
      "Step 23: Error: 24.687197 updating learning rate: 0.000083\n",
      "Step 24: Error: 25.158525 updating learning rate: 0.000083\n",
      "Step 25: Error: 25.594954 updating learning rate: 0.000082\n",
      "Step 26: Error: 25.999330 updating learning rate: 0.000082\n",
      "Step 27: Error: 26.373013 updating learning rate: 0.000082\n",
      "Step 28: Error: 26.717397 updating learning rate: 0.000082\n",
      "Step 29: Error: 27.034837 updating learning rate: 0.000082\n",
      "Step 30: Error: 27.326515 updating learning rate: 0.000082\n",
      "Step 31: Error: 27.593631 updating learning rate: 0.000082\n",
      "Step 32: Error: 27.838132 updating learning rate: 0.000082\n",
      "Step 33: Error: 28.061039 updating learning rate: 0.000082\n",
      "Step 34: Error: 28.263392 updating learning rate: 0.000082\n",
      "Step 35: Error: 28.446791 updating learning rate: 0.000082\n",
      "Step 36: Error: 28.612121 updating learning rate: 0.000082\n",
      "Step 37: Error: 28.760284 updating learning rate: 0.000081\n",
      "Step 38: Error: 28.892585 updating learning rate: 0.000081\n",
      "Step 39: Error: 29.009795 updating learning rate: 0.000081\n",
      "Step 40: Error: 29.112698 updating learning rate: 0.000081\n",
      "Step 41: Error: 29.202351 updating learning rate: 0.000081\n",
      "Step 42: Error: 29.279426 updating learning rate: 0.000081\n",
      "Step 43: Error: 29.344606 updating learning rate: 0.000081\n",
      "Step 44: Error: 29.398739 updating learning rate: 0.000081\n",
      "Step 45: Error: 29.442415 updating learning rate: 0.000081\n",
      "Step 46: Error: 29.476229 updating learning rate: 0.000081\n",
      "Step 47: Error: 29.500853 updating learning rate: 0.000081\n",
      "Step 48: Error: 29.516805 updating learning rate: 0.000081\n",
      "Step 49: Error: 29.524607 updating learning rate: 0.000081\n",
      "Final Step 1000: Error: 6.872280 \n",
      " Learn rate: 0.000081\n"
     ]
    },
    {
     "name": "stderr",
     "output_type": "stream",
     "text": [
      "[autoreload of utils failed: Traceback (most recent call last):\n",
      "  File \"/usr/local/lib/python3.4/site-packages/IPython/extensions/autoreload.py\", line 247, in check\n",
      "    superreload(m, reload, self.old_objects)\n",
      "  File \"/Users/carlyhendrickson/git/logistic_regression/src/utils.py\", line 65\n",
      "    def plot_confusion_matrix(cm,\n",
      "      ^\n",
      "SyntaxError: invalid syntax\n",
      "]\n"
     ]
    }
   ],
   "source": [
    "lrc.train(reset=True)"
   ]
  },
  {
   "cell_type": "code",
   "execution_count": 18,
   "metadata": {
    "collapsed": false
   },
   "outputs": [
    {
     "name": "stdout",
     "output_type": "stream",
     "text": [
      "Final Step 1000: Error: 3.614193 \n",
      " Learn rate: 0.000081\n"
     ]
    }
   ],
   "source": [
    "lrc.train(reset=False)"
   ]
  },
  {
   "cell_type": "code",
   "execution_count": 19,
   "metadata": {
    "collapsed": false,
    "scrolled": true
   },
   "outputs": [],
   "source": [
    "preds, probs = lrc.prediction(lrc.W, ffts)"
   ]
  },
  {
   "cell_type": "code",
   "execution_count": 20,
   "metadata": {
    "collapsed": false,
    "scrolled": true
   },
   "outputs": [
    {
     "name": "stdout",
     "output_type": "stream",
     "text": [
      "             precision    recall  f1-score   support\n",
      "\n",
      "          0       0.41      0.42      0.42        97\n",
      "          1       0.70      0.64      0.67       110\n",
      "          2       0.36      0.55      0.44        65\n",
      "          3       0.27      0.66      0.38        41\n",
      "          4       0.24      0.55      0.33        44\n",
      "          5       0.25      0.49      0.33        51\n",
      "          6       0.75      0.55      0.63       137\n",
      "          7       0.24      0.75      0.36        32\n",
      "          8       0.93      0.28      0.43       331\n",
      "          9       0.38      0.41      0.40        92\n",
      "\n",
      "avg / total       0.63      0.45      0.47      1000\n",
      "\n"
     ]
    },
    {
     "data": {
      "image/png": "[encoded data removed]",
      "text/plain": [
       "<matplotlib.figure.Figure at 0x10ec595f8>"
      ]
     },
     "metadata": {},
     "output_type": "display_data"
    }
   ],
   "source": [
    "print(metrics.classification_report(preds, class_labels))\n",
    "cm = utils.plot_confusion_matrix(metrics.confusion_matrix(preds, class_labels))"
   ]
  },
  {
   "cell_type": "code",
   "execution_count": null,
   "metadata": {
    "collapsed": false
   },
   "outputs": [],
   "source": []
  },
  {
   "cell_type": "code",
   "execution_count": 65,
   "metadata": {
    "collapsed": false
   },
   "outputs": [
    {
     "data": {
      "text/plain": [
       "array([ 11.65566268,   0.5422652 ,   0.82455446,  -0.01274703,\n",
       "         0.30493301,   0.28511441,  -0.02377612,   0.35329073,\n",
       "        -0.17688426,   0.4147061 ,  -0.01374432,   0.12068376,  -0.19252127])"
      ]
     },
     "execution_count": 65,
     "metadata": {},
     "output_type": "execute_result"
    }
   ],
   "source": [
    "np.load('/cs/genres/blues/blues.00029.mfc.npy')"
   ]
  },
  {
   "cell_type": "code",
   "execution_count": 97,
   "metadata": {
    "collapsed": false
   },
   "outputs": [],
   "source": [
    "mfc_dict, mfc_labels, mfcs, = utils.read_features(feature='mfc')"
   ]
  },
  {
   "cell_type": "code",
   "execution_count": null,
   "metadata": {
    "collapsed": false
   },
   "outputs": [],
   "source": []
  },
  {
   "cell_type": "code",
   "execution_count": null,
   "metadata": {
    "collapsed": false
   },
   "outputs": [],
   "source": []
  },
  {
   "cell_type": "code",
   "execution_count": 99,
   "metadata": {
    "collapsed": false
   },
   "outputs": [],
   "source": [
    "lrc_mfc = LogisticRegressionClassifier(mfcs, mfc_labels, mfc_dict)"
   ]
  },
  {
   "cell_type": "code",
   "execution_count": 108,
   "metadata": {
    "collapsed": false
   },
   "outputs": [
    {
     "name": "stdout",
     "output_type": "stream",
     "text": [
      "Final Step 1000: Error: 7.980285 \n",
      " Learn rate: 0.000000\n"
     ]
    }
   ],
   "source": [
    "lrc_mfc.train(reset=False, eta=0.0000001)"
   ]
  },
  {
   "cell_type": "code",
   "execution_count": null,
   "metadata": {
    "collapsed": false
   },
   "outputs": [],
   "source": []
  },
  {
   "cell_type": "code",
   "execution_count": 106,
   "metadata": {
    "collapsed": false
   },
   "outputs": [],
   "source": [
    "mfc_pred, mfc_probas = lrc_mfc.prediction(lrc_mfc.W, mfcs)"
   ]
  },
  {
   "cell_type": "code",
   "execution_count": 109,
   "metadata": {
    "collapsed": false
   },
   "outputs": [
    {
     "name": "stdout",
     "output_type": "stream",
     "text": [
      "             precision    recall  f1-score   support\n",
      "\n",
      "          0       0.28      0.67      0.40        49\n",
      "          1       0.51      0.38      0.44        71\n",
      "          2       0.45      0.26      0.33        58\n",
      "          3       0.00      0.00      0.00        28\n",
      "          4       0.45      0.40      0.43        75\n",
      "          5       0.00      0.00      0.00        25\n",
      "          6       0.49      0.86      0.62        63\n",
      "          7       0.00      0.00      0.00        24\n",
      "\n",
      "avg / total       0.36      0.40      0.36       393\n",
      "\n"
     ]
    },
    {
     "name": "stderr",
     "output_type": "stream",
     "text": [
      "/usr/local/lib/python3.4/site-packages/sklearn/metrics/classification.py:958: UndefinedMetricWarning: Precision and F-score are ill-defined and being set to 0.0 in labels with no predicted samples.\n",
      "  'precision', 'predicted', average, warn_for)\n"
     ]
    },
    {
     "data": {
      "image/png": "[encoded data removed]",
      "text/plain": [
       "<matplotlib.figure.Figure at 0x112da86a0>"
      ]
     },
     "metadata": {},
     "output_type": "display_data"
    }
   ],
   "source": [
    "print(metrics.classification_report(mfc_labels, mfc_pred))\n",
    "cm = utils.plot_confusion_matrix(metrics.confusion_matrix(mfc_labels, mfc_pred))"
   ]
  },
  {
   "cell_type": "code",
   "execution_count": null,
   "metadata": {
    "collapsed": true
   },
   "outputs": [],
   "source": []
  }
 ],
 "metadata": {
  "kernelspec": {
   "display_name": "Python 3",
   "language": "python",
   "name": "python3"
  },
  "language_info": {
   "codemirror_mode": {
    "name": "ipython",
    "version": 3
   },
   "file_extension": ".py",
   "mimetype": "text/x-python",
   "name": "python",
   "nbconvert_exporter": "python",
   "pygments_lexer": "ipython3",
   "version": "3.4.2"
  }
 },
 "nbformat": 4,
 "nbformat_minor": 0
}
