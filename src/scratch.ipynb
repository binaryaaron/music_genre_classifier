{
 "cells": [
  {
   "cell_type": "code",
   "execution_count": 1,
   "metadata": {
    "collapsed": false,
    "scrolled": true
   },
   "outputs": [],
   "source": [
    "import numpy as np\n",
    "import itertools\n",
    "import sklearn.metrics  as metrics\n",
    "from scipy.stats import zscore\n",
    "from sklearn.preprocessing import normalize\n",
    "import sklearn.cross_validation as cv\n",
    "%load_ext autoreload\n",
    "%autoreload 2\n",
    "%aimport utils\n",
    "from LogisticRegressionClassifier import LogisticRegressionClassifier"
   ]
  },
  {
   "cell_type": "code",
   "execution_count": 2,
   "metadata": {
    "collapsed": false
   },
   "outputs": [
    {
     "name": "stdout",
     "output_type": "stream",
     "text": [
      "Populating the interactive namespace from numpy and matplotlib\n"
     ]
    },
    {
     "name": "stderr",
     "output_type": "stream",
     "text": [
      "WARNING: pylab import has clobbered these variables: ['normalize']\n",
      "`%matplotlib` prevents importing * from pylab and numpy\n"
     ]
    }
   ],
   "source": [
    "%pylab inline"
   ]
  },
  {
   "cell_type": "code",
   "execution_count": null,
   "metadata": {
    "collapsed": false
   },
   "outputs": [],
   "source": []
  },
  {
   "cell_type": "code",
   "execution_count": 3,
   "metadata": {
    "collapsed": false
   },
   "outputs": [
    {
     "data": {
      "text/plain": [
       "{'blues': 5,\n",
       " 'classical': 6,\n",
       " 'country': 8,\n",
       " 'disco': 9,\n",
       " 'hiphop': 7,\n",
       " 'jazz': 2,\n",
       " 'metal': 0,\n",
       " 'pop': 1,\n",
       " 'reggae': 4,\n",
       " 'rock': 3}"
      ]
     },
     "execution_count": 3,
     "metadata": {},
     "output_type": "execute_result"
    }
   ],
   "source": [
    "fft_dict, fft_labels, ffts = utils.read_features(feature='fft')\n",
    "fft_dict"
   ]
  },
  {
   "cell_type": "code",
   "execution_count": 5,
   "metadata": {
    "collapsed": false
   },
   "outputs": [],
   "source": [
    "lrc_fft = LogisticRegressionClassifier(ffts, fft_labels, fft_dict)"
   ]
  },
  {
   "cell_type": "code",
   "execution_count": null,
   "metadata": {
    "collapsed": false
   },
   "outputs": [],
   "source": []
  },
  {
   "cell_type": "code",
   "execution_count": null,
   "metadata": {
    "collapsed": false
   },
   "outputs": [],
   "source": []
  },
  {
   "cell_type": "code",
   "execution_count": null,
   "metadata": {
    "collapsed": false
   },
   "outputs": [],
   "source": []
  },
  {
   "cell_type": "code",
   "execution_count": null,
   "metadata": {
    "collapsed": false,
    "scrolled": true
   },
   "outputs": [],
   "source": []
  },
  {
   "cell_type": "code",
   "execution_count": 7,
   "metadata": {
    "collapsed": false,
    "scrolled": false
   },
   "outputs": [
    {
     "name": "stdout",
     "output_type": "stream",
     "text": [
      "Training cross validation round 0\n",
      "----------------------------------\n",
      "Step 0: Error: -1.000000 updating learning rate: 0.001000\n",
      "Final Step 1000: Error: 0.105710 \n",
      " Learn rate: 0.001000\n",
      "classification report \n",
      "----------------------------------\n",
      "             precision    recall  f1-score   support\n",
      "\n",
      "      metal       0.61      0.70      0.65        40\n",
      "        pop       0.53      0.41      0.47        41\n",
      "       jazz       0.24      0.23      0.23        31\n",
      "       rock       0.24      0.27      0.25        33\n",
      "     reggae       0.23      0.29      0.25        28\n",
      "      blues       0.32      0.28      0.30        32\n",
      "  classical       0.37      0.91      0.53        23\n",
      "     hiphop       0.27      0.17      0.21        36\n",
      "    country       0.26      0.17      0.20        36\n",
      "      disco       0.38      0.26      0.31        34\n",
      "\n",
      "avg / total       0.35      0.36      0.34       334\n",
      "\n",
      "Confusion matrix\n",
      "----------------------------------\n",
      "[[28  0  0  2  1  3  1  2  1  2]\n",
      " [ 0 17  5  3  5  1  0  4  2  4]\n",
      " [ 0  2  7  4  2  1 11  0  3  1]\n",
      " [ 5  1  1  9  2  4  1  3  3  4]\n",
      " [ 6  2  3  1  8  1  4  2  1  0]\n",
      " [ 2  0  4  4  2  9  6  2  3  0]\n",
      " [ 0  0  0  2  0  0 21  0  0  0]\n",
      " [ 3  5  1  5  8  0  3  6  3  2]\n",
      " [ 0  1  4  6  3  6  7  1  6  2]\n",
      " [ 2  4  4  2  4  3  3  2  1  9]]\n",
      "----------------------------------\n",
      "Training cross validation round 1\n",
      "----------------------------------\n",
      "Final Step 1000: Error: 0.104027 \n",
      " Learn rate: 0.001000\n",
      "classification report \n",
      "----------------------------------\n",
      "             precision    recall  f1-score   support\n",
      "\n",
      "      metal       0.34      0.58      0.43        24\n",
      "        pop       0.65      0.62      0.63        32\n",
      "       jazz       0.26      0.28      0.27        32\n",
      "       rock       0.27      0.17      0.21        35\n",
      "     reggae       0.26      0.29      0.27        35\n",
      "      blues       0.28      0.24      0.25        34\n",
      "  classical       0.46      0.79      0.58        38\n",
      "     hiphop       0.25      0.14      0.18        37\n",
      "    country       0.23      0.17      0.19        36\n",
      "      disco       0.20      0.17      0.18        30\n",
      "\n",
      "avg / total       0.32      0.34      0.32       333\n",
      "\n",
      "Confusion matrix\n",
      "----------------------------------\n",
      "[[14  0  0  1  4  2  0  0  1  2]\n",
      " [ 0 20  4  1  2  0  2  1  0  2]\n",
      " [ 0  0  9  1  4  4 10  1  2  1]\n",
      " [ 6  1  3  6  2  5  4  2  3  3]\n",
      " [ 5  1  1  1 10  4  5  4  3  1]\n",
      " [ 4  0  4  3  5  8  2  2  3  3]\n",
      " [ 0  1  4  0  2  1 30  0  0  0]\n",
      " [ 5  5  1  2  2  1  5  5  5  6]\n",
      " [ 1  0  9  3  3  3  6  3  6  2]\n",
      " [ 6  3  0  4  5  1  1  2  3  5]]\n",
      "----------------------------------\n",
      "Training cross validation round 2\n",
      "----------------------------------\n",
      "Final Step 1000: Error: 0.106308 \n",
      " Learn rate: 0.001000\n",
      "classification report \n",
      "----------------------------------\n",
      "             precision    recall  f1-score   support\n",
      "\n",
      "      metal       0.50      0.56      0.53        36\n",
      "        pop       0.54      0.48      0.51        27\n",
      "       jazz       0.33      0.30      0.31        37\n",
      "       rock       0.19      0.16      0.17        32\n",
      "     reggae       0.31      0.22      0.25        37\n",
      "      blues       0.36      0.26      0.31        34\n",
      "  classical       0.45      0.87      0.59        39\n",
      "     hiphop       0.17      0.15      0.16        27\n",
      "    country       0.17      0.21      0.19        28\n",
      "      disco       0.36      0.22      0.28        36\n",
      "\n",
      "avg / total       0.34      0.35      0.34       333\n",
      "\n",
      "Confusion matrix\n",
      "----------------------------------\n",
      "[[20  1  1  5  1  2  1  1  2  2]\n",
      " [ 0 13  1  2  1  0  1  4  4  1]\n",
      " [ 2  2 11  1  2  5 11  2  1  0]\n",
      " [ 5  2  0  5  1  2  2  3  8  4]\n",
      " [ 0  2  5  1  8  3  8  4  4  2]\n",
      " [ 3  0  4  3  2  9  4  2  5  2]\n",
      " [ 1  0  3  0  0  0 34  0  1  0]\n",
      " [ 6  1  3  0  3  0  7  4  1  2]\n",
      " [ 1  1  2  3  5  3  5  1  6  1]\n",
      " [ 2  2  3  7  3  1  3  3  4  8]]\n",
      "----------------------------------\n",
      "-------------\n",
      "we love confusion_matrices. here is the average for              the whole training run.\n",
      "[[ 20.66666667   0.33333333   0.33333333   2.66666667   2.           2.33333333\n",
      "    0.66666667   1.           1.33333333   2.        ]\n",
      " [  0.          16.66666667   3.33333333   2.           2.66666667\n",
      "    0.33333333   1.           3.           2.           2.33333333]\n",
      " [  0.66666667   1.33333333   9.           2.           2.66666667\n",
      "    3.33333333  10.66666667   1.           2.           0.66666667]\n",
      " [  5.33333333   1.33333333   1.33333333   6.66666667   1.66666667\n",
      "    3.66666667   2.33333333   2.66666667   4.66666667   3.66666667]\n",
      " [  3.66666667   1.66666667   3.           1.           8.66666667\n",
      "    2.66666667   5.66666667   3.33333333   2.66666667   1.        ]\n",
      " [  3.           0.           4.           3.33333333   3.           8.66666667\n",
      "    4.           2.           3.66666667   1.66666667]\n",
      " [  0.33333333   0.33333333   2.33333333   0.66666667   0.66666667\n",
      "    0.33333333  28.33333333   0.           0.33333333   0.        ]\n",
      " [  4.66666667   3.66666667   1.66666667   2.33333333   4.33333333\n",
      "    0.33333333   5.           5.           3.           3.33333333]\n",
      " [  0.66666667   0.66666667   5.           4.           3.66666667   4.\n",
      "    6.           1.66666667   6.           1.66666667]\n",
      " [  3.33333333   3.           2.33333333   4.33333333   4.           1.66666667\n",
      "    2.33333333   2.33333333   2.66666667   7.33333333]]\n"
     ]
    }
   ],
   "source": [
    "lrc_fft.cross_validate(3)"
   ]
  },
  {
   "cell_type": "code",
   "execution_count": null,
   "metadata": {
    "collapsed": false
   },
   "outputs": [],
   "source": []
  },
  {
   "cell_type": "code",
   "execution_count": null,
   "metadata": {
    "collapsed": false
   },
   "outputs": [],
   "source": []
  },
  {
   "cell_type": "code",
   "execution_count": 171,
   "metadata": {
    "collapsed": false,
    "scrolled": true
   },
   "outputs": [
    {
     "data": {
      "image/png": "[encoded data removed]",
      "text/plain": [
       "<matplotlib.figure.Figure at 0x7fc9044d14a8>"
      ]
     },
     "metadata": {},
     "output_type": "display_data"
    }
   ],
   "source": [
    "_ = utils.plot_confusion_matrix(report)"
   ]
  },
  {
   "cell_type": "code",
   "execution_count": null,
   "metadata": {
    "collapsed": true
   },
   "outputs": [],
   "source": []
  },
  {
   "cell_type": "code",
   "execution_count": null,
   "metadata": {
    "collapsed": true
   },
   "outputs": [],
   "source": []
  },
  {
   "cell_type": "code",
   "execution_count": 181,
   "metadata": {
    "collapsed": false
   },
   "outputs": [],
   "source": []
  },
  {
   "cell_type": "code",
   "execution_count": 154,
   "metadata": {
    "collapsed": false
   },
   "outputs": [],
   "source": [
    "def debug_lrc(lrc):\n",
    "  \n",
    "    \n",
    "    print(lrc.X.shape),\n",
    "    print(lrc.X_test.shape),\n",
    "    print(lrc.y.shape),\n",
    "    print(lrc.y_test.shape),\n",
    "    print(lrc.Delta.shape),\n",
    "    print(lrc.W.shape),\n",
    "    print(lrc._X.shape)\n",
    "    "
   ]
  },
  {
   "cell_type": "code",
   "execution_count": 9,
   "metadata": {
    "collapsed": false,
    "scrolled": true
   },
   "outputs": [],
   "source": [
    "mfc_dict, mfc_labels, mfcs = utils.read_features(feature='mfc')"
   ]
  },
  {
   "cell_type": "code",
   "execution_count": 10,
   "metadata": {
    "collapsed": false
   },
   "outputs": [],
   "source": [
    "lrc_mfc = LogisticRegressionClassifier(mfcs, mfc_labels, mfc_dict)"
   ]
  },
  {
   "cell_type": "code",
   "execution_count": 11,
   "metadata": {
    "collapsed": false,
    "scrolled": true
   },
   "outputs": [
    {
     "data": {
      "text/plain": [
       "{'train_rounds': 0}"
      ]
     },
     "execution_count": 11,
     "metadata": {},
     "output_type": "execute_result"
    }
   ],
   "source": [
    "lrc_mfc.metrics"
   ]
  },
  {
   "cell_type": "code",
   "execution_count": 14,
   "metadata": {
    "collapsed": false,
    "scrolled": true
   },
   "outputs": [
    {
     "name": "stdout",
     "output_type": "stream",
     "text": [
      "Training cross validation round 0\n",
      "----------------------------------\n",
      "Step 0: Error: -1.000000 updating learning rate: 0.001000\n",
      "Final Step 1000: Error: 0.104261 \n",
      " Learn rate: 0.001000\n",
      "classification report \n",
      "----------------------------------\n",
      "             precision    recall  f1-score   support\n",
      "\n",
      "      metal       0.69      0.67      0.68        33\n",
      "        pop       0.62      0.87      0.72        30\n",
      "       jazz       0.49      0.50      0.49        36\n",
      "       rock       0.33      0.29      0.31        35\n",
      "      blues       0.50      0.42      0.46        40\n",
      "     reggae       0.43      0.54      0.48        28\n",
      "  classical       0.81      0.85      0.83        34\n",
      "     hiphop       0.38      0.41      0.39        29\n",
      "    country       0.52      0.31      0.39        42\n",
      "      disco       0.42      0.48      0.45        27\n",
      "\n",
      "avg / total       0.52      0.52      0.52       334\n",
      "\n",
      "Confusion matrix\n",
      "----------------------------------\n",
      "[[22  0  0  1  3  0  0  5  0  2]\n",
      " [ 0 26  0  0  0  2  0  0  1  1]\n",
      " [ 0  1 18  1  2  4  7  1  2  0]\n",
      " [ 1  3  2 10  5  3  0  3  0  8]\n",
      " [ 5  0  3  5 17  3  0  1  4  2]\n",
      " [ 0  1  2  2  1 15  0  6  0  1]\n",
      " [ 0  0  3  1  0  1 29  0  0  0]\n",
      " [ 2  2  1  0  0  5  0 12  4  3]\n",
      " [ 0  6  7  8  4  2  0  1 13  1]\n",
      " [ 2  3  1  2  2  0  0  3  1 13]]\n",
      "----------------------------------\n",
      "Training cross validation round 1\n",
      "----------------------------------\n",
      "Final Step 1000: Error: 0.120645 \n",
      " Learn rate: 0.001000\n",
      "classification report \n",
      "----------------------------------\n",
      "             precision    recall  f1-score   support\n",
      "\n",
      "      metal       0.76      0.86      0.81        36\n",
      "        pop       0.68      0.78      0.73        41\n",
      "       jazz       0.52      0.42      0.46        36\n",
      "       rock       0.25      0.15      0.19        27\n",
      "      blues       0.38      0.58      0.46        26\n",
      "     reggae       0.58      0.51      0.55        35\n",
      "  classical       0.85      0.91      0.88        32\n",
      "     hiphop       0.52      0.38      0.44        37\n",
      "    country       0.47      0.53      0.50        30\n",
      "      disco       0.34      0.36      0.35        33\n",
      "\n",
      "avg / total       0.55      0.56      0.55       333\n",
      "\n",
      "Confusion matrix\n",
      "----------------------------------\n",
      "[[31  0  0  0  2  0  0  2  0  1]\n",
      " [ 0 32  2  1  0  1  1  1  2  1]\n",
      " [ 1  0 15  1  2  3  2  1  5  6]\n",
      " [ 0  3  2  4 11  1  0  0  1  5]\n",
      " [ 4  0  2  4 15  0  0  0  1  0]\n",
      " [ 0  3  1  0  3 18  0  4  2  4]\n",
      " [ 0  0  2  0  0  0 29  0  1  0]\n",
      " [ 4  3  0  1  0  6  1 14  4  4]\n",
      " [ 0  1  5  1  4  0  0  1 16  2]\n",
      " [ 1  5  0  4  2  2  1  4  2 12]]\n",
      "----------------------------------\n",
      "Training cross validation round 2\n",
      "----------------------------------\n",
      "Final Step 1000: Error: 0.118117 \n",
      " Learn rate: 0.001000\n",
      "classification report \n",
      "----------------------------------\n",
      "             precision    recall  f1-score   support\n",
      "\n",
      "      metal       0.56      0.77      0.65        31\n",
      "        pop       0.77      0.83      0.80        29\n",
      "       jazz       0.41      0.54      0.46        28\n",
      "       rock       0.35      0.29      0.32        38\n",
      "      blues       0.41      0.44      0.42        34\n",
      "     reggae       0.50      0.38      0.43        37\n",
      "  classical       0.90      0.79      0.84        34\n",
      "     hiphop       0.53      0.53      0.53        34\n",
      "    country       0.46      0.39      0.42        28\n",
      "      disco       0.47      0.45      0.46        40\n",
      "\n",
      "avg / total       0.53      0.53      0.53       333\n",
      "\n",
      "Confusion matrix\n",
      "----------------------------------\n",
      "[[24  0  0  2  2  1  0  1  0  1]\n",
      " [ 0 24  0  1  0  0  0  2  0  2]\n",
      " [ 1  0 15  0  1  5  1  1  3  1]\n",
      " [ 2  0  4 11  6  1  0  2  4  8]\n",
      " [ 9  0  0  4 15  1  1  0  4  0]\n",
      " [ 0  2  6  0  4 14  1  5  1  4]\n",
      " [ 1  0  5  0  0  1 27  0  0  0]\n",
      " [ 4  4  1  1  1  2  0 18  0  3]\n",
      " [ 0  1  2  3  6  1  0  3 11  1]\n",
      " [ 2  0  4  9  2  2  0  2  1 18]]\n",
      "----------------------------------\n",
      "-------------\n",
      "we love confusion_matrices. here is the average for\n",
      "              the whole training run.\n",
      "[[ 25.   0.   0.   1.   2.   0.   0.   2.   0.   1.]\n",
      " [  0.  27.   0.   0.   0.   1.   0.   1.   1.   1.]\n",
      " [  0.   0.  16.   0.   1.   4.   3.   1.   3.   2.]\n",
      " [  1.   2.   2.   8.   7.   1.   0.   1.   1.   7.]\n",
      " [  6.   0.   1.   4.  15.   1.   0.   0.   3.   0.]\n",
      " [  0.   2.   3.   0.   2.  15.   0.   5.   1.   3.]\n",
      " [  0.   0.   3.   0.   0.   0.  28.   0.   0.   0.]\n",
      " [  3.   3.   0.   0.   0.   4.   0.  14.   2.   3.]\n",
      " [  0.   2.   4.   4.   4.   1.   0.   1.  13.   1.]\n",
      " [  1.   2.   1.   5.   2.   1.   0.   3.   1.  14.]]\n"
     ]
    }
   ],
   "source": [
    "lrc_mfc.cross_validate(3)"
   ]
  },
  {
   "cell_type": "code",
   "execution_count": null,
   "metadata": {
    "collapsed": false
   },
   "outputs": [],
   "source": [
    "lrc_mfc.prediction(lrc_mfc.W, lrc_mfc.X_test)"
   ]
  },
  {
   "cell_type": "code",
   "execution_count": null,
   "metadata": {
    "collapsed": false
   },
   "outputs": [],
   "source": [
    "lrc_mfc.train(reset=False, eta=0.001)"
   ]
  },
  {
   "cell_type": "code",
   "execution_count": null,
   "metadata": {
    "collapsed": false
   },
   "outputs": [],
   "source": [
    "lrc_mfc.metrics"
   ]
  },
  {
   "cell_type": "code",
   "execution_count": 138,
   "metadata": {
    "collapsed": false
   },
   "outputs": [],
   "source": [
    "mfc_pred, mfc_probas = lrc_mfc.prediction(lrc_mfc.W, mfcs)"
   ]
  },
  {
   "cell_type": "code",
   "execution_count": 139,
   "metadata": {
    "collapsed": false
   },
   "outputs": [
    {
     "name": "stdout",
     "output_type": "stream",
     "text": [
      "             precision    recall  f1-score   support\n",
      "\n",
      "          0       0.43      0.55      0.48       100\n",
      "          1       0.47      0.14      0.22       100\n",
      "          2       0.38      0.97      0.55       100\n",
      "          3       0.50      0.06      0.11       100\n",
      "          4       0.57      0.04      0.07       100\n",
      "          5       0.49      0.88      0.63       100\n",
      "          6       0.62      0.15      0.24       100\n",
      "          7       0.57      0.50      0.53       100\n",
      "          8       0.29      0.02      0.04       100\n",
      "          9       0.20      0.55      0.30       100\n",
      "\n",
      "avg / total       0.45      0.39      0.32      1000\n",
      "\n"
     ]
    },
    {
     "data": {
      "image/png": "[encoded data removed]",
      "text/plain": [
       "<matplotlib.figure.Figure at 0x7fc9045d7dd8>"
      ]
     },
     "metadata": {},
     "output_type": "display_data"
    }
   ],
   "source": [
    "print(metrics.classification_report(mfc_labels, mfc_pred))\n",
    "cm = utils.plot_confusion_matrix(metrics.confusion_matrix(mfc_labels, mfc_pred))"
   ]
  },
  {
   "cell_type": "code",
   "execution_count": null,
   "metadata": {
    "collapsed": true
   },
   "outputs": [],
   "source": []
  },
  {
   "cell_type": "code",
   "execution_count": 135,
   "metadata": {
    "collapsed": false
   },
   "outputs": [
    {
     "name": "stdout",
     "output_type": "stream",
     "text": [
      "0 [array([1, 5, 6, 7, 8]), array([0, 2, 3, 4, 9])]\n",
      "1 [array([0, 2, 3, 4, 9]), array([1, 5, 6, 7, 8])]\n"
     ]
    }
   ],
   "source": [
    "kf = cv.KFold(10, n_folds = 2, shuffle=True)\n",
    "for i, k  in enumerate(kf):\n",
    "    print( i, list(k))"
   ]
  },
  {
   "cell_type": "code",
   "execution_count": null,
   "metadata": {
    "collapsed": false
   },
   "outputs": [],
   "source": []
  },
  {
   "cell_type": "code",
   "execution_count": 34,
   "metadata": {
    "collapsed": true
   },
   "outputs": [],
   "source": []
  },
  {
   "cell_type": "code",
   "execution_count": null,
   "metadata": {
    "collapsed": false
   },
   "outputs": [],
   "source": []
  },
  {
   "cell_type": "code",
   "execution_count": null,
   "metadata": {
    "collapsed": true
   },
   "outputs": [],
   "source": []
  },
  {
   "cell_type": "code",
   "execution_count": null,
   "metadata": {
    "collapsed": true
   },
   "outputs": [],
   "source": []
  },
  {
   "cell_type": "code",
   "execution_count": null,
   "metadata": {
    "collapsed": true
   },
   "outputs": [],
   "source": []
  },
  {
   "cell_type": "code",
   "execution_count": 2,
   "metadata": {
    "collapsed": false
   },
   "outputs": [
    {
     "data": {
      "text/plain": [
       "'0.16.0'"
      ]
     },
     "execution_count": 2,
     "metadata": {},
     "output_type": "execute_result"
    }
   ],
   "source": [
    "import sklearn\n",
    "sklearn.__version__"
   ]
  },
  {
   "cell_type": "code",
   "execution_count": 5,
   "metadata": {
    "collapsed": false,
    "scrolled": true
   },
   "outputs": [
    {
     "data": {
      "text/plain": [
       "((150, 4), (150,))"
      ]
     },
     "execution_count": 5,
     "metadata": {},
     "output_type": "execute_result"
    }
   ],
   "source": [
    "from sklearn import datasets\n",
    "from sklearn import svm\n",
    "import sklearn.cross_validation as cv\n",
    "\n",
    "iris = datasets.load_iris()\n",
    "iris.data.shape, iris.target.shape"
   ]
  },
  {
   "cell_type": "code",
   "execution_count": 6,
   "metadata": {
    "collapsed": false
   },
   "outputs": [],
   "source": [
    "clf = svm.SVC(kernel='linear', C=1)\n",
    "scores = cv.cross_val_score(\n",
    "    clf, iris.data, iris.target, cv=5)"
   ]
  },
  {
   "cell_type": "code",
   "execution_count": 42,
   "metadata": {
    "collapsed": false
   },
   "outputs": [
    {
     "data": {
      "text/plain": [
       "array([ 0.96666667,  1.        ,  0.96666667,  0.96666667,  1.        ])"
      ]
     },
     "execution_count": 42,
     "metadata": {},
     "output_type": "execute_result"
    }
   ],
   "source": [
    "scores"
   ]
  },
  {
   "cell_type": "code",
   "execution_count": 43,
   "metadata": {
    "collapsed": false
   },
   "outputs": [
    {
     "data": {
      "text/plain": [
       "0.98000000000000009"
      ]
     },
     "execution_count": 43,
     "metadata": {},
     "output_type": "execute_result"
    }
   ],
   "source": [
    "cv.cross_val_score"
   ]
  },
  {
   "cell_type": "code",
   "execution_count": 8,
   "metadata": {
    "collapsed": false
   },
   "outputs": [],
   "source": [
    "predicted = cv.cross_val_predict(clf, iris.data,iris.target, cv=10)"
   ]
  },
  {
   "cell_type": "code",
   "execution_count": 12,
   "metadata": {
    "collapsed": false
   },
   "outputs": [
    {
     "name": "stdout",
     "output_type": "stream",
     "text": [
      "             precision    recall  f1-score   support\n",
      "\n",
      "          0       1.00      1.00      1.00        50\n",
      "          1       0.98      0.94      0.96        50\n",
      "          2       0.94      0.98      0.96        50\n",
      "\n",
      "avg / total       0.97      0.97      0.97       150\n",
      "\n"
     ]
    }
   ],
   "source": [
    "print(metrics.classification_report(iris.target, predicted))"
   ]
  },
  {
   "cell_type": "code",
   "execution_count": 18,
   "metadata": {
    "collapsed": false
   },
   "outputs": [
    {
     "name": "stdout",
     "output_type": "stream",
     "text": [
      "[[42  0  0]\n",
      " [ 0 26 23]\n",
      " [ 0  1 43]]\n",
      "[[45  0  0]\n",
      " [ 0 43  2]\n",
      " [ 0  2 43]]\n",
      "[[45  0  0]\n",
      " [ 0 42  4]\n",
      " [ 0  0 44]]\n",
      "[[47  0  0]\n",
      " [ 0 43  0]\n",
      " [ 0  6 39]]\n",
      "[[45  0  0]\n",
      " [ 0 45  0]\n",
      " [ 0  9 36]]\n",
      "[[43  0  0]\n",
      " [ 3 44  0]\n",
      " [ 0 13 32]]\n",
      "[[46  0  0]\n",
      " [ 0 37  8]\n",
      " [ 0  1 43]]\n",
      "[[47  0  0]\n",
      " [ 0 39  4]\n",
      " [ 0  0 45]]\n",
      "[[45  0  0]\n",
      " [ 0 43  0]\n",
      " [ 0 19 28]]\n",
      "[[45  0  0]\n",
      " [ 0 43  1]\n",
      " [ 0  7 39]]\n"
     ]
    }
   ],
   "source": [
    "kf = cv.KFold(iris.data.shape[0], n_folds = 10, shuffle=True)\n",
    "for test, train in kf:\n",
    "    X_train, X_test, y_train, y_test = \\\n",
    "            iris.data[train], iris.data[test], iris.target[train], iris.target[test]\n",
    "    clf.fit(X_train, y_train)\n",
    "    pred = clf.predict(X_test)\n",
    "    print(metrics.confusion_matrix(y_test, pred))\n",
    "    "
   ]
  },
  {
   "cell_type": "code",
   "execution_count": null,
   "metadata": {
    "collapsed": true
   },
   "outputs": [],
   "source": []
  }
 ],
 "metadata": {
  "kernelspec": {
   "display_name": "Python 3",
   "language": "python",
   "name": "python3"
  },
  "language_info": {
   "codemirror_mode": {
    "name": "ipython",
    "version": 3
   },
   "file_extension": ".py",
   "mimetype": "text/x-python",
   "name": "python",
   "nbconvert_exporter": "python",
   "pygments_lexer": "ipython3",
   "version": "3.4.0"
  }
 },
 "nbformat": 4,
 "nbformat_minor": 0
}
